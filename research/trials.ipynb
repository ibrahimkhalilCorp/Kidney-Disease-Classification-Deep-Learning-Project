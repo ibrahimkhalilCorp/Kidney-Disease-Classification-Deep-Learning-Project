{
 "cells": [
  {
   "metadata": {
    "ExecuteTime": {
     "end_time": "2025-04-30T04:52:49.867852Z",
     "start_time": "2025-04-30T04:52:49.862182Z"
    }
   },
   "cell_type": "code",
   "source": [
    "#config box\n",
    "d = {'Key':'val','Key1':'val1','Key2':'val2','Key3':'val3'}"
   ],
   "id": "fc2c3c4ec57e7ecc",
   "outputs": [],
   "execution_count": 1
  },
  {
   "metadata": {
    "ExecuteTime": {
     "end_time": "2025-04-30T04:53:49.013270Z",
     "start_time": "2025-04-30T04:53:49.005861Z"
    }
   },
   "cell_type": "code",
   "source": "d['Key']",
   "id": "a723ef099c1e7c5c",
   "outputs": [
    {
     "data": {
      "text/plain": [
       "'val'"
      ]
     },
     "execution_count": 5,
     "metadata": {},
     "output_type": "execute_result"
    }
   ],
   "execution_count": 5
  },
  {
   "metadata": {
    "ExecuteTime": {
     "end_time": "2025-04-30T04:53:50.543488Z",
     "start_time": "2025-04-30T04:53:50.517003Z"
    }
   },
   "cell_type": "code",
   "source": "d.key",
   "id": "cc5db445d9246e7",
   "outputs": [
    {
     "ename": "AttributeError",
     "evalue": "'dict' object has no attribute 'key'",
     "output_type": "error",
     "traceback": [
      "\u001B[31m---------------------------------------------------------------------------\u001B[39m",
      "\u001B[31mAttributeError\u001B[39m                            Traceback (most recent call last)",
      "\u001B[36mCell\u001B[39m\u001B[36m \u001B[39m\u001B[32mIn[6]\u001B[39m\u001B[32m, line 1\u001B[39m\n\u001B[32m----> \u001B[39m\u001B[32m1\u001B[39m \u001B[43md\u001B[49m\u001B[43m.\u001B[49m\u001B[43mkey\u001B[49m\n",
      "\u001B[31mAttributeError\u001B[39m: 'dict' object has no attribute 'key'"
     ]
    }
   ],
   "execution_count": 6
  },
  {
   "metadata": {
    "ExecuteTime": {
     "end_time": "2025-04-30T04:53:52.483438Z",
     "start_time": "2025-04-30T04:53:52.387555Z"
    }
   },
   "cell_type": "code",
   "source": "from box import ConfigBox",
   "id": "91825f0ccceee67c",
   "outputs": [],
   "execution_count": 7
  },
  {
   "metadata": {
    "ExecuteTime": {
     "end_time": "2025-04-30T04:53:53.657830Z",
     "start_time": "2025-04-30T04:53:53.653454Z"
    }
   },
   "cell_type": "code",
   "source": "d2 = ConfigBox({'Key':'val','Key1':'val1','Key2':'val2','Key3':'val3'})",
   "id": "f987fc306312d8a8",
   "outputs": [],
   "execution_count": 8
  },
  {
   "metadata": {
    "ExecuteTime": {
     "end_time": "2025-04-30T04:53:59.263566Z",
     "start_time": "2025-04-30T04:53:59.258485Z"
    }
   },
   "cell_type": "code",
   "source": "d2.Key",
   "id": "e2b3faa1adb5635",
   "outputs": [
    {
     "data": {
      "text/plain": [
       "'val'"
      ]
     },
     "execution_count": 10,
     "metadata": {},
     "output_type": "execute_result"
    }
   ],
   "execution_count": 10
  }
 ],
 "metadata": {
  "kernelspec": {
   "name": "python3",
   "language": "python",
   "display_name": "Python 3 (ipykernel)"
  }
 },
 "nbformat": 5,
 "nbformat_minor": 9
}
