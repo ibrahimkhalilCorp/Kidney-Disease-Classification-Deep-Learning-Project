{
 "cells": [
  {
   "metadata": {
    "ExecuteTime": {
     "end_time": "2025-04-30T04:52:49.867852Z",
     "start_time": "2025-04-30T04:52:49.862182Z"
    }
   },
   "cell_type": "code",
   "source": [
    "#config box\n",
    "d = {'Key':'val','Key1':'val1','Key2':'val2','Key3':'val3'}"
   ],
   "id": "fc2c3c4ec57e7ecc",
   "outputs": [],
   "execution_count": 1
  },
  {
   "metadata": {
    "ExecuteTime": {
     "end_time": "2025-04-30T04:53:49.013270Z",
     "start_time": "2025-04-30T04:53:49.005861Z"
    }
   },
   "cell_type": "code",
   "source": "d['Key']",
   "id": "a723ef099c1e7c5c",
   "outputs": [
    {
     "data": {
      "text/plain": [
       "'val'"
      ]
     },
     "execution_count": 5,
     "metadata": {},
     "output_type": "execute_result"
    }
   ],
   "execution_count": 5
  },
  {
   "metadata": {
    "ExecuteTime": {
     "end_time": "2025-04-30T09:26:52.672319Z",
     "start_time": "2025-04-30T09:26:52.657713Z"
    }
   },
   "cell_type": "code",
   "source": "# d.key",
   "id": "cc5db445d9246e7",
   "outputs": [],
   "execution_count": 11
  },
  {
   "metadata": {
    "ExecuteTime": {
     "end_time": "2025-04-30T04:53:52.483438Z",
     "start_time": "2025-04-30T04:53:52.387555Z"
    }
   },
   "cell_type": "code",
   "source": "from box import ConfigBox",
   "id": "91825f0ccceee67c",
   "outputs": [],
   "execution_count": 7
  },
  {
   "metadata": {
    "ExecuteTime": {
     "end_time": "2025-04-30T04:53:53.657830Z",
     "start_time": "2025-04-30T04:53:53.653454Z"
    }
   },
   "cell_type": "code",
   "source": "d2 = ConfigBox({'Key':'val','Key1':'val1','Key2':'val2','Key3':'val3'})",
   "id": "f987fc306312d8a8",
   "outputs": [],
   "execution_count": 8
  },
  {
   "metadata": {
    "ExecuteTime": {
     "end_time": "2025-04-30T04:53:59.263566Z",
     "start_time": "2025-04-30T04:53:59.258485Z"
    }
   },
   "cell_type": "code",
   "source": "d2.Key",
   "id": "e2b3faa1adb5635",
   "outputs": [
    {
     "data": {
      "text/plain": [
       "'val'"
      ]
     },
     "execution_count": 10,
     "metadata": {},
     "output_type": "execute_result"
    }
   ],
   "execution_count": 10
  },
  {
   "metadata": {},
   "cell_type": "markdown",
   "source": "## Download Data from Google drive\n",
   "id": "6361f1e42c2317d1"
  },
  {
   "metadata": {
    "ExecuteTime": {
     "end_time": "2025-05-17T03:51:08.594769Z",
     "start_time": "2025-05-17T03:51:08.219245Z"
    }
   },
   "cell_type": "code",
   "source": "import gdown",
   "id": "b3bb7aab725ae4aa",
   "outputs": [],
   "execution_count": 1
  },
  {
   "metadata": {
    "ExecuteTime": {
     "end_time": "2025-05-17T03:51:43.552922Z",
     "start_time": "2025-05-17T03:51:43.546359Z"
    }
   },
   "cell_type": "code",
   "source": [
    "url = \"https://drive.google.com/file/d/1BU4Zwuge4nO6Bd-XH4lS70ueWoOV34sq/view?usp=sharing\"\n",
    "file_id = url.split(\"/\")[-2]\n",
    "file_id"
   ],
   "id": "2bb750d636b970a2",
   "outputs": [
    {
     "data": {
      "text/plain": [
       "'1BU4Zwuge4nO6Bd-XH4lS70ueWoOV34sq'"
      ]
     },
     "execution_count": 3,
     "metadata": {},
     "output_type": "execute_result"
    }
   ],
   "execution_count": 3
  },
  {
   "metadata": {
    "ExecuteTime": {
     "end_time": "2025-05-17T03:56:06.565289Z",
     "start_time": "2025-05-17T03:54:50.528361Z"
    }
   },
   "cell_type": "code",
   "source": [
    " prefix = f'https://drive.google.com/uc?/export=download&id={file_id}'\n",
    "gdown.download(prefix, \"Kidney-CT-Scan-dataset.zip\", quiet=False)"
   ],
   "id": "862f8f99159a12b2",
   "outputs": [
    {
     "name": "stderr",
     "output_type": "stream",
     "text": [
      "Downloading...\n",
      "From (original): https://drive.google.com/uc?/export=download&id=1BU4Zwuge4nO6Bd-XH4lS70ueWoOV34sq\n",
      "From (redirected): https://drive.google.com/uc?%2Fexport=download&id=1BU4Zwuge4nO6Bd-XH4lS70ueWoOV34sq&confirm=t&uuid=eeb2aa91-0740-41f2-a5e8-7b98af80b165\n",
      "To: D:\\MY Practice Folder\\Kidney-Disease-Classification-Deep-Learning-Project\\research\\Kidney-CT-Scan-dataset.zip\n",
      "100%|██████████| 940M/940M [01:10<00:00, 13.3MB/s] \n"
     ]
    },
    {
     "data": {
      "text/plain": [
       "'Kidney-CT-Scan-dataset.zip'"
      ]
     },
     "execution_count": 4,
     "metadata": {},
     "output_type": "execute_result"
    }
   ],
   "execution_count": 4
  }
 ],
 "metadata": {
  "kernelspec": {
   "name": "python3",
   "language": "python",
   "display_name": "Python 3 (ipykernel)"
  }
 },
 "nbformat": 5,
 "nbformat_minor": 9
}
